{
 "cells": [
  {
   "cell_type": "code",
   "execution_count": null,
   "metadata": {
    "collapsed": true
   },
   "outputs": [],
   "source": [
    "import numpy as np \n",
    "import pandas as pd \n",
    "import os\n",
    "import warnings\n",
    "warnings.filterwarnings('ignore')\n",
    "\n",
    "from sklearn.linear_model import LogisticRegression\n",
    "from sklearn.svm import SVC, LinearSVC\n",
    "from sklearn.neighbors import KNeighborsClassifier\n",
    "from sklearn.tree import DecisionTreeClassifier\n",
    "from sklearn.ensemble import RandomForestClassifier\n",
    "from sklearn.naive_bayes import GaussianNB\n",
    "from sklearn.neural_network import MLPClassifier\n",
    "from sklearn import datasets, linear_model\n",
    "from sklearn.model_selection import train_test_split\n",
    "from sklearn import metrics\n",
    "from sklearn.metrics import roc_curve, roc_auc_score\n",
    "from sklearn import preprocessing"
   ]
  },
  {
   "cell_type": "code",
   "execution_count": null,
   "metadata": {
    "collapsed": true
   },
   "outputs": [],
   "source": [
    "def fillextsources(label, features, app_train, app_test):\n",
    "    app_train_with_value = app_train[app_train[label].notnull()] #1\n",
    "    app_test_with_value = app_test[app_test[label].notnull()]    #3\n",
    "    app_train_no_value = app_train[app_train[label].isnull()]    #2\n",
    "    app_test_no_value = app_test[app_test[label].isnull()]       #4\n",
    "    len1 = len(app_train_with_value)\n",
    "    len3 = len(app_test_with_value)\n",
    "    len2 = len(app_train_no_value)\n",
    "    len4 = len(app_test_no_value)\n",
    "    # A = 1 + 3\n",
    "    A = pd.concat([app_train_with_value, app_test_with_value], axis=0)\n",
    "    # B = 2 + 4\n",
    "    B = pd.concat([app_train_no_value, app_test_no_value], axis=0)\n",
    "    \n",
    "    # A\n",
    "    # fill median for each column\n",
    "    index = 0\n",
    "    for feature in features:\n",
    "        A[feature].fillna(meds[++index])\n",
    "    \n",
    "    \n",
    "    # B\n",
    "    # fill median for each column\n",
    "    index = 0\n",
    "    for feature in features:\n",
    "        B[feature].fillna(meds[++index])\n",
    "        \n",
    "    # x_train y_train  x_test\n",
    "    x_train = A[features]\n",
    "    y_train = A[label]\n",
    "    x_test = B[features]\n",
    "    \n",
    "    # model train and predict\n",
    "    model = linear_model.LinearRegression()\n",
    "    model.fit(x_train, y_train)\n",
    "    y_test = model.predict(x_test) # filled EXT_SOURCE_1\n",
    "    \n",
    "    # fill B\n",
    "    B[label] = y_test\n",
    "    \n",
    "    app_train_new = pd.concat([A[0:len1], B[0:len2]], axis=0)\n",
    "    app_test_new = pd.concat([A[len1:len1+len3], B[len2:len2+len4]], axis=0)\n",
    "    app_test_new.sort_values(by=['SK_ID_CURR'])\n",
    "    \n",
    "    return app_train_new, app_test_new\n",
    "    \n",
    " \n",
    "    "
   ]
  },
  {
   "cell_type": "code",
   "execution_count": null,
   "metadata": {},
   "outputs": [],
   "source": [
    "labels = ['EXT_SOURCE_1', 'EXT_SOURCE_2', 'EXT_SOURCE_3']\n",
    "app_train = pd.read_csv('application_train.csv')\n",
    "app_test = pd.read_csv('application_test.csv')\n",
    "\n",
    "\n",
    "features = ['DAYS_BIRTH', 'DAYS_EMPLOYED', 'DAYS_ID_PUBLISH', 'DAYS_REGISTRATION',  'AMT_CREDIT', 'AMT_INCOME_TOTAL'\n",
    "           , 'REGION_POPULATION_RELATIVE']\n",
    "\n",
    "preprocessing.scale(app_train[features])\n",
    "preprocessing.scale(app_test[features])\n",
    "\n",
    "# Create an anomalous flag column\n",
    "app_train['DAYS_EMPLOYED_ANOM'] = app_train[\"DAYS_EMPLOYED\"] == 365243\n",
    "\n",
    "# Replace the anomalous values with nan\n",
    "app_train['DAYS_EMPLOYED'].replace({365243: -1224}, inplace = True)\n",
    "\n",
    "#app_train['DAYS_EMPLOYED'].plot.hist(title = 'Days Employment Histogram');\n",
    "#plt.xlabel('Days Employment');\n",
    "\n",
    "app_test['DAYS_EMPLOYED_ANOM'] = app_test[\"DAYS_EMPLOYED\"] == 365243\n",
    "app_test[\"DAYS_EMPLOYED\"].replace({365243: -1224}, inplace = True)\n",
    "\n",
    "\n",
    "\n",
    "#print('There are %d anomalies in the test data out of %d entries' % (app_test[\"DAYS_EMPLOYED_ANOM\"].sum(), len(app_test)))\n",
    "\n",
    "app_train.loc[:,'DAYS_BIRTH'] /= -365\n",
    "app_test.loc[:,'DAYS_BIRTH'] /= -365\n",
    "\n",
    "meds = []\n",
    "for feature in features:\n",
    "    ds = app_train[feature].append(app_test[feature]) \n",
    "    meds.append(ds.median())\n",
    "\n",
    "for label in labels:\n",
    "    app_train_new, app_test_new = fillextsources(label, features, app_train, app_test)\n",
    "    app_train = app_train_new\n",
    "    app_test = app_test_new\n",
    "\n"
   ]
  },
  {
   "cell_type": "code",
   "execution_count": null,
   "metadata": {},
   "outputs": [],
   "source": [
    "# model logistc regression\n",
    "x_train_final = app_train[labels]\n",
    "y_train_final = app_train['TARGET']\n",
    "x_test_final = app_test[labels]\n",
    "\n",
    "model = LogisticRegression()\n",
    "model.fit(x_train_final, y_train_final)\n",
    "prediction_proba = model.predict_proba(x_test_final)[:, 1]\n",
    "\n",
    "\n"
   ]
  },
  {
   "cell_type": "code",
   "execution_count": null,
   "metadata": {
    "collapsed": true
   },
   "outputs": [],
   "source": [
    "# Submission dataframe\n",
    "submit = app_test[['SK_ID_CURR']]\n",
    "submit['TARGET'] = prediction_proba\n",
    "\n",
    "# convert to csv\n",
    "submit.to_csv('LR.csv', index = False)"
   ]
  },
  {
   "cell_type": "code",
   "execution_count": null,
   "metadata": {
    "collapsed": true
   },
   "outputs": [],
   "source": []
  }
 ],
 "metadata": {
  "kernelspec": {
   "display_name": "Python 3",
   "language": "python",
   "name": "python3"
  },
  "language_info": {
   "codemirror_mode": {
    "name": "ipython",
    "version": 3
   },
   "file_extension": ".py",
   "mimetype": "text/x-python",
   "name": "python",
   "nbconvert_exporter": "python",
   "pygments_lexer": "ipython3",
   "version": "3.6.3"
  }
 },
 "nbformat": 4,
 "nbformat_minor": 2
}
